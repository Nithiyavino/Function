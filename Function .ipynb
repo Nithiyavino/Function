{
 "cells": [
  {
   "cell_type": "code",
   "execution_count": 1,
   "metadata": {},
   "outputs": [
    {
     "name": "stdout",
     "output_type": "stream",
     "text": [
      "Subfields in AI are:\n",
      "Machine Learning\n",
      "Neural Networks\n",
      "Vision\n",
      "Robotics\n",
      "SpeechProcessing\n",
      "Natural Language Processing\n"
     ]
    }
   ],
   "source": [
    "print(\"Subfields in AI are:\")\n",
    "List=['Machine Learning', 'Neural Networks', 'Vision', 'Robotics', 'SpeechProcessing', 'Natural Language Processing']\n",
    "for temp in List:\n",
    "    print(temp)"
   ]
  },
  {
   "cell_type": "code",
   "execution_count": 2,
   "metadata": {},
   "outputs": [],
   "source": [
    "def Subfields():\n",
    "        print(\"Subfields in AI are:\")\n",
    "        List=['Machine Learning', 'Neural Networks', 'Vision', 'Robotics', 'SpeechProcessing', 'Natural Language Processing']\n",
    "        for temp in List:\n",
    "            print(temp)"
   ]
  },
  {
   "cell_type": "code",
   "execution_count": 3,
   "metadata": {},
   "outputs": [
    {
     "name": "stdout",
     "output_type": "stream",
     "text": [
      "Subfields in AI are:\n",
      "Machine Learning\n",
      "Neural Networks\n",
      "Vision\n",
      "Robotics\n",
      "SpeechProcessing\n",
      "Natural Language Processing\n"
     ]
    }
   ],
   "source": [
    "Subfields()"
   ]
  },
  {
   "cell_type": "code",
   "execution_count": 4,
   "metadata": {},
   "outputs": [
    {
     "name": "stdout",
     "output_type": "stream",
     "text": [
      "Enter a number: 4\n",
      "4 is Even number\n"
     ]
    }
   ],
   "source": [
    "num = int(input(\"Enter a number: \"))\n",
    "if (num % 2) == 0:\n",
    "    print(num,\"is Even number\")\n",
    "else:\n",
    "    print(num,\"is Odd number\")"
   ]
  },
  {
   "cell_type": "code",
   "execution_count": 5,
   "metadata": {},
   "outputs": [],
   "source": [
    "def OddEven():\n",
    "    num = int(input(\"Enter a number: \"))\n",
    "    if (num % 2) == 0:\n",
    "        print(num,\"is Even number\")\n",
    "    else:\n",
    "        print(num,\"is Odd number\")"
   ]
  },
  {
   "cell_type": "code",
   "execution_count": 6,
   "metadata": {},
   "outputs": [
    {
     "name": "stdout",
     "output_type": "stream",
     "text": [
      "Enter a number: 4\n",
      "4 is Even number\n"
     ]
    }
   ],
   "source": [
    "OddEven()"
   ]
  },
  {
   "cell_type": "code",
   "execution_count": 7,
   "metadata": {},
   "outputs": [
    {
     "name": "stdout",
     "output_type": "stream",
     "text": [
      "Your Gender:Male\n",
      "Your Age:18\n",
      "NOT ELIGIBLE\n"
     ]
    }
   ],
   "source": [
    "gender=input(\"Your Gender:\")\n",
    "age=int(input(\"Your Age:\"))\n",
    "if(age<=20):\n",
    "    print(\"NOT ELIGIBLE\")\n",
    "else:\n",
    "    print(\"ELIGIBLE\")"
   ]
  },
  {
   "cell_type": "code",
   "execution_count": 10,
   "metadata": {},
   "outputs": [],
   "source": [
    "def Eligible():\n",
    "    gender=input(\"Your Gender:\")\n",
    "    age=int(input(\"Your Age:\"))\n",
    "    if(age<=20):\n",
    "        print(\"NOT ELIGIBLE\")\n",
    "    else:\n",
    "        print(\"ELIGIBLE\")"
   ]
  },
  {
   "cell_type": "code",
   "execution_count": 11,
   "metadata": {},
   "outputs": [
    {
     "name": "stdout",
     "output_type": "stream",
     "text": [
      "Your Gender:Male\n",
      "Your Age:18\n",
      "NOT ELIGIBLE\n"
     ]
    }
   ],
   "source": [
    "Eligible()"
   ]
  },
  {
   "cell_type": "code",
   "execution_count": 12,
   "metadata": {},
   "outputs": [
    {
     "name": "stdout",
     "output_type": "stream",
     "text": [
      "subject1=23\n",
      "subject2=34\n",
      "subject3=45\n",
      "subject4=23\n",
      "subject5=23\n",
      "Total 148\n",
      "percentage 29.599999999999998\n"
     ]
    }
   ],
   "source": [
    "sub1=int(input(\"subject1=\"))\n",
    "sub2=int(input(\"subject2=\"))\n",
    "sub3=int(input(\"subject3=\"))\n",
    "sub4=int(input(\"subject4=\"))\n",
    "sub5=int(input(\"subject5=\"))\n",
    "Total=sub1+sub2+sub3+sub4+sub5\n",
    "print(\"Total\",sub1+sub2+sub3+sub4+sub5)\n",
    "percentage=(Total/500)*100\n",
    "print(\"percentage\",percentage)"
   ]
  },
  {
   "cell_type": "code",
   "execution_count": 13,
   "metadata": {},
   "outputs": [],
   "source": [
    "def Marks():\n",
    "    sub1=int(input(\"subject1=\"))\n",
    "    sub2=int(input(\"subject2=\"))\n",
    "    sub3=int(input(\"subject3=\"))\n",
    "    sub4=int(input(\"subject4=\"))\n",
    "    sub5=int(input(\"subject5=\"))\n",
    "    Total=sub1+sub2+sub3+sub4+sub5\n",
    "    print(\"Total\",sub1+sub2+sub3+sub4+sub5)\n",
    "    percentage=(Total/500)*100\n",
    "    print(\"percentage\",percentage)"
   ]
  },
  {
   "cell_type": "code",
   "execution_count": 14,
   "metadata": {},
   "outputs": [
    {
     "name": "stdout",
     "output_type": "stream",
     "text": [
      "subject1=23\n",
      "subject2=34\n",
      "subject3=45\n",
      "subject4=23\n",
      "subject5=23\n",
      "Total 148\n",
      "percentage 29.599999999999998\n"
     ]
    }
   ],
   "source": [
    "Marks()"
   ]
  },
  {
   "cell_type": "code",
   "execution_count": 15,
   "metadata": {},
   "outputs": [
    {
     "name": "stdout",
     "output_type": "stream",
     "text": [
      "Height:32\n",
      "Breadth:34\n",
      "Area formula: (Height*Breadth)/2\n",
      "Area of Triangle:  544.0\n",
      "Height1:2\n",
      "Height2:4\n",
      "Breadth:4\n",
      "Perimeter formula: Height1+Height2+Breadth\n",
      "Perimeter of Triangle:  10\n"
     ]
    }
   ],
   "source": [
    "Height=int(input(\"Height:\"))\n",
    "breadth=int(input(\"Breadth:\"))\n",
    "print(\"Area formula: (Height*Breadth)/2\")\n",
    "print(\"Area of Triangle: \",(Height*breadth)/2)\n",
    "Height1=int(input(\"Height1:\"))\n",
    "Height2=int(input(\"Height2:\"))\n",
    "breadth=int(input(\"Breadth:\"))\n",
    "print(\"Perimeter formula: Height1+Height2+Breadth\")\n",
    "print(\"Perimeter of Triangle: \",Height1+Height2+breadth)"
   ]
  },
  {
   "cell_type": "code",
   "execution_count": 16,
   "metadata": {},
   "outputs": [],
   "source": [
    "def formula():\n",
    "    Height=int(input(\"Height:\"))\n",
    "    breadth=int(input(\"Breadth:\"))\n",
    "    print(\"Area formula: (Height*Breadth)/2\")\n",
    "    print(\"Area of Triangle: \",(Height*breadth)/2)\n",
    "    Height1=int(input(\"Height1:\"))\n",
    "    Height2=int(input(\"Height2:\"))\n",
    "    breadth=int(input(\"Breadth:\"))\n",
    "    print(\"Perimeter formula: Height1+Height2+Breadth\")\n",
    "    print(\"Perimeter of Triangle: \",Height1+Height2+breadth)"
   ]
  },
  {
   "cell_type": "code",
   "execution_count": 17,
   "metadata": {},
   "outputs": [
    {
     "name": "stdout",
     "output_type": "stream",
     "text": [
      "Height:32\n",
      "Breadth:34\n",
      "Area formula: (Height*Breadth)/2\n",
      "Area of Triangle:  544.0\n",
      "Height1:2\n",
      "Height2:4\n",
      "Breadth:4\n",
      "Perimeter formula: Height1+Height2+Breadth\n",
      "Perimeter of Triangle:  10\n"
     ]
    }
   ],
   "source": [
    "formula()"
   ]
  },
  {
   "cell_type": "code",
   "execution_count": null,
   "metadata": {},
   "outputs": [],
   "source": []
  }
 ],
 "metadata": {
  "kernelspec": {
   "display_name": "Python 3",
   "language": "python",
   "name": "python3"
  },
  "language_info": {
   "codemirror_mode": {
    "name": "ipython",
    "version": 3
   },
   "file_extension": ".py",
   "mimetype": "text/x-python",
   "name": "python",
   "nbconvert_exporter": "python",
   "pygments_lexer": "ipython3",
   "version": "3.7.4"
  }
 },
 "nbformat": 4,
 "nbformat_minor": 2
}
